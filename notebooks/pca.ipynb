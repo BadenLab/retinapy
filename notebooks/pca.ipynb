{
 "cells": [
  {
   "cell_type": "code",
   "execution_count": null,
   "id": "752a1882-ad18-46ad-b2e5-088018f3cb04",
   "metadata": {},
   "outputs": [],
   "source": [
    "import retinapy.mea as mea\n",
    "import numpy as np\n",
    "import pandas as pd\n",
    "import json\n",
    "from collections import defaultdict\n",
    "import plotly.express as px\n",
    "import plotly.graph_objects as go\n",
    "import plotly.subplots\n",
    "import sklearn.decomposition as skd\n",
    "from sklearn.decomposition import PCA"
   ]
  },
  {
   "cell_type": "code",
   "execution_count": null,
   "id": "029efdf0-5164-462b-a2da-f577fd72e65b",
   "metadata": {},
   "outputs": [],
   "source": [
    "# Load recording\n",
    "rec_name = 'Chicken_17_08_21_Phase_00'\n",
    "#rec_name = \"Chicken_06_08_21_2nd_Phase_00\"\n",
    "rec = mea.single_3brain_recording(\n",
    "    rec_name,\n",
    "    mea.load_stimulus_pattern('../data/ff_noise.h5'),\n",
    "    mea.load_recorded_stimulus('../data/ff_recorded_noise.pickle'),\n",
    "    mea.load_response('../data/ff_spike_response.pickle'))\n",
    "print(rec)"
   ]
  },
  {
   "cell_type": "code",
   "execution_count": null,
   "id": "fd72c85a-daaf-4ffb-b3e4-c51a42fc281c",
   "metadata": {},
   "outputs": [],
   "source": [
    "downsample, snippet_len, snippet_pad = (180, 120, 20)\n",
    "zoom = (1000 * downsample) / mea.ELECTRODE_FREQ"
   ]
  },
  {
   "cell_type": "code",
   "execution_count": null,
   "id": "bed0e5ce-2dfc-44e9-a1a8-eda76c42ec75",
   "metadata": {},
   "outputs": [],
   "source": [
    "snippets, cluster_ids, sample_rate = mea.labeled_spike_snippets(rec,\n",
    "                                      snippet_len,\n",
    "                                      snippet_pad,\n",
    "                                      downsample=downsample)"
   ]
  },
  {
   "cell_type": "code",
   "execution_count": null,
   "id": "33897e75-072c-4604-8afd-74499f8f7695",
   "metadata": {},
   "outputs": [],
   "source": [
    "by_cluster = defaultdict(list)\n",
    "for idx in range(len(cluster_ids)):\n",
    "    by_cluster[cluster_ids[idx]].append(snippets[idx])"
   ]
  },
  {
   "cell_type": "code",
   "execution_count": null,
   "id": "43e5fdba-6c95-4a5b-9c59-d3c0aa5a3b77",
   "metadata": {},
   "outputs": [],
   "source": [
    "colormap = pd.DataFrame({\n",
    "    'names':['Red', 'Green', 'UV', 'Blue', 'Stim'],\n",
    "    'display_hex':['#ff0a0a', '#0aff0a', '#0a0aff', '#303030', '#0a0a0a']})\n",
    "def kernel_plot(kernel, snippet_len, snippet_pad):\n",
    "    fig = go.Figure()\n",
    "    # Move the zero point to the left, visually.\n",
    "    zero_offset = zoom * (snippet_len - snippet_pad)\n",
    "    xs = zoom * np.arange(kernel.shape[0]) - zero_offset\n",
    "    # Shift the x-axis to have zero in the middle.\n",
    "    #xs -= zoom * xs.shape[0] // 2\n",
    "    for c in range(4):\n",
    "        fig.add_trace(go.Scatter(x=xs, \n",
    "                                 y=kernel[:,c], \n",
    "                                 line_color=colormap.loc[c]['display_hex'], \n",
    "                                 mode='lines'))\n",
    "    fig.add_vline(x=-100, line_width=2, line_dash='dot', line_color='grey',\n",
    "                  annotation_text='-100ms', annotation_position='bottom right')\n",
    "    fig.update_layout(autosize=False,\n",
    "                      height=500,\n",
    "                      width=600,\n",
    "                      margin=dict(l=1, r=1, b=1, t=25, pad=1),\n",
    "                      yaxis_fixedrange=True,\n",
    "                      showlegend=False,\n",
    "                      title='Kernel',\n",
    "                      title_x=0.5,\n",
    "                      title_pad=dict(l=1, r=1, b=10, t=1),\n",
    "                      xaxis={'title':'time (ms), with spike at 0'},\n",
    "                      yaxis={'title':'summed responses'} )\n",
    "    return fig\n",
    "\n",
    "def spike_rate_plot(spikes, win_sec=10):\n",
    "    num_bins = int(experiment_duration_secs / win_sec)\n",
    "    spike_times = spikes / electrode_freq\n",
    "    fig = px.histogram(spike_times, nbins=num_bins)\n",
    "    fig.update_layout(autosize=False,\n",
    "                      height=300,\n",
    "                      width=800,\n",
    "                      margin=dict(l=1, r=1, b=1, t=25, pad=1),\n",
    "                      showlegend=False,\n",
    "                      title=f'Spike counts ({win_sec} sec bins)', \n",
    "                      title_pad=dict(l=1, r=1, b=10, t=1),\n",
    "                      title_x=0.5,\n",
    "                      yaxis_fixedrange=True)\n",
    "    return fig"
   ]
  },
  {
   "cell_type": "code",
   "execution_count": null,
   "id": "32172dd4-d2d2-4928-a9fe-298be29e7da1",
   "metadata": {},
   "outputs": [],
   "source": [
    "sid_list = [21]#[664] #+ list(by_cluster.keys())[0:10]\n",
    "for sid in sid_list:\n",
    "    snippets = by_cluster[sid]\n",
    "    var = np.var(snippets, axis=0)\n",
    "    ave = np.mean(snippets, axis=0)\n",
    "    p = kernel_plot(ave, snippet_len, snippet_pad)\n",
    "    p.show()\n",
    "    \n"
   ]
  },
  {
   "cell_type": "code",
   "execution_count": null,
   "id": "642b46aa-c02f-460d-9aee-89cf4b001fe3",
   "metadata": {},
   "outputs": [],
   "source": []
  },
  {
   "cell_type": "code",
   "execution_count": null,
   "id": "40c51830-ff1a-4bf6-95f0-caad0a018410",
   "metadata": {},
   "outputs": [],
   "source": []
  }
 ],
 "metadata": {
  "kernelspec": {
   "display_name": "Python 3 (ipykernel)",
   "language": "python",
   "name": "python3"
  },
  "language_info": {
   "codemirror_mode": {
    "name": "ipython",
    "version": 3
   },
   "file_extension": ".py",
   "mimetype": "text/x-python",
   "name": "python",
   "nbconvert_exporter": "python",
   "pygments_lexer": "ipython3",
   "version": "3.9.13"
  }
 },
 "nbformat": 4,
 "nbformat_minor": 5
}
