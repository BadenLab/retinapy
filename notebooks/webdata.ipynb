{
 "cells": [
  {
   "cell_type": "code",
   "execution_count": 1,
   "id": "13501e24-ac16-472f-a8d0-5afc5e362f30",
   "metadata": {},
   "outputs": [],
   "source": [
    "import retinapy.mea as mea\n",
    "import numpy as np\n",
    "import pandas as pd\n",
    "import json\n",
    "from collections import defaultdict\n",
    "import plotly.express as px\n",
    "import plotly.graph_objects as go\n",
    "import plotly.subplots\n",
    "from sklearn.decomposition import PCA"
   ]
  },
  {
   "cell_type": "code",
   "execution_count": 2,
   "id": "6deaa2c4-010e-46f6-98a7-5a875b00cbca",
   "metadata": {},
   "outputs": [
    {
     "name": "stdout",
     "output_type": "stream",
     "text": [
      "blas_info:\n",
      "    libraries = ['cblas', 'blas', 'cblas', 'blas']\n",
      "    library_dirs = ['/home/app/mambaforge/lib']\n",
      "    include_dirs = ['/home/app/mambaforge/include']\n",
      "    language = c\n",
      "    define_macros = [('HAVE_CBLAS', None)]\n",
      "blas_opt_info:\n",
      "    define_macros = [('NO_ATLAS_INFO', 1), ('HAVE_CBLAS', None)]\n",
      "    libraries = ['cblas', 'blas', 'cblas', 'blas']\n",
      "    library_dirs = ['/home/app/mambaforge/lib']\n",
      "    include_dirs = ['/home/app/mambaforge/include']\n",
      "    language = c\n",
      "lapack_info:\n",
      "    libraries = ['lapack', 'blas', 'lapack', 'blas']\n",
      "    library_dirs = ['/home/app/mambaforge/lib']\n",
      "    language = f77\n",
      "lapack_opt_info:\n",
      "    libraries = ['lapack', 'blas', 'lapack', 'blas', 'cblas', 'blas', 'cblas', 'blas']\n",
      "    library_dirs = ['/home/app/mambaforge/lib']\n",
      "    language = c\n",
      "    define_macros = [('NO_ATLAS_INFO', 1), ('HAVE_CBLAS', None)]\n",
      "    include_dirs = ['/home/app/mambaforge/include']\n",
      "Supported SIMD extensions in this NumPy install:\n",
      "    baseline = SSE,SSE2,SSE3\n",
      "    found = SSSE3,SSE41,POPCNT,SSE42,AVX,F16C,FMA3,AVX2\n",
      "    not found = AVX512F,AVX512CD,AVX512_KNL,AVX512_KNM,AVX512_SKX,AVX512_CLX,AVX512_CNL,AVX512_ICL\n"
     ]
    }
   ],
   "source": [
    "np.show_config()"
   ]
  },
  {
   "cell_type": "code",
   "execution_count": 3,
   "id": "910e7e5e-3877-4337-aee1-aa4da672232b",
   "metadata": {},
   "outputs": [
    {
     "name": "stdout",
     "output_type": "stream",
     "text": [
      "Recording: Chicken_04_08_21_Phase_01, sensor sample rate: 17852.76785 Hz, num samples: 16070787, duration: 900.2 seconds, stimulus pattern shape: (24000, 4),num clusters: 187.\n"
     ]
    }
   ],
   "source": [
    "# Load recording\n",
    "rec_name = 'Chicken_17_08_21_Phase_00'\n",
    "rec_name = 'Chicken_04_08_21_Phase_01'\n",
    "rec = mea.single_3brain_recording(\n",
    "    rec_name,\n",
    "    mea.load_stimulus_pattern('../data/ff_noise.h5'),\n",
    "    mea.load_recorded_stimulus('../data/ff_recorded_noise.pickle'),\n",
    "    mea.load_response('../data/ff_spike_response.pickle'))\n",
    "print(rec)"
   ]
  },
  {
   "cell_type": "code",
   "execution_count": 5,
   "id": "73e92ad6-79ab-4278-876a-8c2a9ca13c34",
   "metadata": {},
   "outputs": [],
   "source": [
    "snippets, cluster_ids = mea.labeled_spike_snippets(rec,\n",
    "                                      snippet_len=120,\n",
    "                                      snippet_pad=20,\n",
    "                                      downsample=180)"
   ]
  },
  {
   "cell_type": "code",
   "execution_count": 6,
   "id": "447c1466-2c8a-4c4d-8f2c-c01d3d8d0444",
   "metadata": {},
   "outputs": [
    {
     "name": "stdout",
     "output_type": "stream",
     "text": [
      "17100\n",
      "187\n",
      "Remaining clusters: 187.\n",
      "5065, 4916, 4615, 3712, 4498, 3645, 4390, 5068, 2914, 3195, 3814, 4815, 4818, 3019, 2760, 5396, 2317, 2446, 3889, 2278, 2257, 2995, 5375, 2109, 2893, 2427, 2882, 2492, 1579, 1884, 1864, 2420, 1692, 2325, 1462, 1939, 2794, 2924, 2150, 1751, 1481, 1182, 1131, 988, 1901, 1655, 2256, 1347, 1287, 1311, 4043, 1431, 2364, 805, 2429, 1638, 1258, 866, 1170, 1512, 1631, 1113, 1390, 829, 1235, 1300, 2363, 1613, 1663, 939, 1385, 713, 784, 616, 1255, 1972, 786, 1149, 717, 491, 557, 877, 660, 605, 906, 1532, 868, 811, 361, 319, 735, 556, 884, 271, 422, 639, 507, 610, 384, 643, 793, 398, 494, 1128, 725, 329, 257, 927, 451, 748, 402, 689, 570, 439, 309, 206, 626, 242, 339, 287, 329, 633, 159, 597, 201, 187, 214, 211, 146, 506, 303, 438, 216, 179, 379, 451, 93, 142, 199, 236, 286, 275, 211, 114, 144, 196, 170, 56, 114, 92, 88, 121, 58, 103, 23, 87, 438, 216, 42, 25, 14, 61, 64, 168, 23, 137, 33, 26, 200, 49, 61, 99, 44, 53, 36, 137, 28, 62, 31, 19, 52, 44, 41, 48, 17, 18, 57, "
     ]
    }
   ],
   "source": [
    "by_cluster = defaultdict(list)\n",
    "num_13 = 0\n",
    "for idx in range(len(cluster_ids)):\n",
    "    by_cluster[cluster_ids[idx]].append(snippets[idx])\n",
    "    if cluster_ids[idx] == 13:\n",
    "        num_13 += 1\n",
    "\n",
    "spike_limit = 19*60*15 # 19 per second\n",
    "print(spike_limit)\n",
    "print(len(by_cluster.keys()))\n",
    "for c_id in set([cluster_ids[i] for i in range(len(cluster_ids))]):\n",
    "    if len(by_cluster[c_id]) > spike_limit:\n",
    "        by_cluster.pop(c_id)\n",
    "print(f'Remaining clusters: {len(by_cluster.keys())}.')\n",
    "for k,v in by_cluster.items():\n",
    "    print(len(v), end=', ')"
   ]
  },
  {
   "cell_type": "code",
   "execution_count": 7,
   "id": "4e0edf87-f82d-4789-bac7-b65a629a9155",
   "metadata": {},
   "outputs": [],
   "source": [
    "def sort_snippets(snippets_):\n",
    "    pca = PCA(n_components=1)\n",
    "    flattened_snippets = np.array([s.reshape(-1) for s in snippets_])\n",
    "    proj = pca.fit_transform(flattened_snippets)\n",
    "    comp_snip_pairs = list(zip(proj, snippets_))\n",
    "    comp_snip_pairs.sort(key = lambda t: t[0])\n",
    "    sorted_snippets = [p[1] for p in comp_snip_pairs]\n",
    "    return sorted_snippets\n",
    "\n",
    "for k,v in by_cluster.items():\n",
    "    by_cluster[k] = sort_snippets(v)"
   ]
  },
  {
   "cell_type": "code",
   "execution_count": 8,
   "id": "6ffda867-55ef-4059-b0d8-24e340201716",
   "metadata": {},
   "outputs": [
    {
     "data": {
      "text/plain": [
       "1.9073486328125e-06"
      ]
     },
     "execution_count": 8,
     "metadata": {},
     "output_type": "execute_result"
    }
   ],
   "source": [
    "len(json.dumps([arr.tolist() for arr in by_cluster[20][0:1000]]))/2**20"
   ]
  },
  {
   "cell_type": "code",
   "execution_count": 9,
   "id": "88d49589-e5a9-49ec-a762-a225ba76be78",
   "metadata": {},
   "outputs": [],
   "source": [
    "for cluster_id, snippets in by_cluster.items():\n",
    "    path = f'../web/public/data_pca/{cluster_id}.json'\n",
    "    with open(path, 'w') as f: \n",
    "        max_idx = min(len(by_cluster[cluster_id]), 5000)\n",
    "        json.dump([arr.tolist() for arr in by_cluster[cluster_id][0:max_idx]], f)\n",
    "    "
   ]
  },
  {
   "cell_type": "code",
   "execution_count": null,
   "id": "eb44388a-100c-4418-9f40-de1699a487ed",
   "metadata": {},
   "outputs": [],
   "source": [
    "colormap = pd.DataFrame({\n",
    "    'names':['Red', 'Green', 'UV', 'Blue', 'Stim'],\n",
    "    'display_hex':['#ff0a0a', '#0aff0a', '#0a0aff', '#303030', '#0a0a0a']})\n",
    "def kernel_plot(kernel):\n",
    "    fig = go.Figure()\n",
    "    xs = np.arange(kernel.shape[0])\n",
    "    # Shift the x-axis to have zero in the middle.\n",
    "    for c in range(1,3):\n",
    "        fig.add_trace(go.Scatter(x=xs, \n",
    "                                 y=kernel[:,c], \n",
    "                                 line_color=colormap.loc[c]['display_hex'], \n",
    "                                 mode='lines'))\n",
    "    fig.update_layout(autosize=False,\n",
    "                      height=300,\n",
    "                      margin=dict(l=1, r=1, b=1, t=25, pad=1),\n",
    "                      yaxis_fixedrange=True,\n",
    "                      showlegend=False,\n",
    "                      title='Kernel',\n",
    "                      title_x=0.5,\n",
    "                      title_pad=dict(l=1, r=1, b=10, t=1),\n",
    "                      xaxis={'title':'time (ms), with spike at 0'},\n",
    "                      yaxis={'title':'summed responses'} )\n",
    "    return fig"
   ]
  },
  {
   "cell_type": "code",
   "execution_count": 21,
   "id": "f84489b9-885f-4fa0-a67e-1ae3f56dd849",
   "metadata": {},
   "outputs": [],
   "source": [
    "path = f'../web/public/data_pca/cluster_ids.json'\n",
    "with open(path, 'w') as f:\n",
    "    as_int_array = list(map(lambda x : int(x), by_cluster.keys()))\n",
    "    json.dump(as_int_array, f)"
   ]
  },
  {
   "cell_type": "code",
   "execution_count": null,
   "id": "dcdf5666-a9e1-4445-9fca-b21fd48a7ee9",
   "metadata": {},
   "outputs": [],
   "source": [
    "len(by_cluster[20])"
   ]
  },
  {
   "cell_type": "code",
   "execution_count": null,
   "id": "8367213b-4264-45ee-add6-9a2bdb18019c",
   "metadata": {},
   "outputs": [],
   "source": [
    "5272/(60*15)"
   ]
  },
  {
   "cell_type": "code",
   "execution_count": null,
   "id": "99dff230-693c-469f-b76c-e29d10866198",
   "metadata": {},
   "outputs": [],
   "source": []
  }
 ],
 "metadata": {
  "kernelspec": {
   "display_name": "Python 3 (ipykernel)",
   "language": "python",
   "name": "python3"
  },
  "language_info": {
   "codemirror_mode": {
    "name": "ipython",
    "version": 3
   },
   "file_extension": ".py",
   "mimetype": "text/x-python",
   "name": "python",
   "nbconvert_exporter": "python",
   "pygments_lexer": "ipython3",
   "version": "3.9.13"
  }
 },
 "nbformat": 4,
 "nbformat_minor": 5
}
