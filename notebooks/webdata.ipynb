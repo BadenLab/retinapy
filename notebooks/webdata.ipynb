{
 "cells": [
  {
   "cell_type": "code",
   "execution_count": null,
   "id": "13501e24-ac16-472f-a8d0-5afc5e362f30",
   "metadata": {},
   "outputs": [],
   "source": [
    "import retinapy.mea as mea\n",
    "import numpy as np\n",
    "import pandas as pd\n",
    "import json\n",
    "from collections import defaultdict\n",
    "import plotly.express as px\n",
    "import plotly.graph_objects as go\n",
    "import plotly.subplots\n",
    "from sklearn.decomposition import PCA\n",
    "import pathlib"
   ]
  },
  {
   "cell_type": "code",
   "execution_count": null,
   "id": "910e7e5e-3877-4337-aee1-aa4da672232b",
   "metadata": {},
   "outputs": [],
   "source": [
    "# Load recording\n",
    "project_root = pathlib.Path(\"../\")\n",
    "web_dir = project_root / \"snippet_viewer\"\n",
    "data_dir = project_root / \"data/ff_noise_recordings\"\n",
    "out_dir = web_dir / 'resources' / 'snippets'\n",
    "if not out_dir.exists():\n",
    "    out_dir.mkdir()\n",
    "recs = mea.load_3brain_recordings(data_dir)"
   ]
  },
  {
   "cell_type": "code",
   "execution_count": null,
   "id": "73e92ad6-79ab-4278-876a-8c2a9ca13c34",
   "metadata": {},
   "outputs": [],
   "source": [
    "for rec in recs:\n",
    "    snippets, cluster_ids = mea.labeled_spike_snippets(rec,\n",
    "                                          snippet_len=90,\n",
    "                                          snippet_pad=10,\n",
    "                                          downsample=180)\n",
    "    for snips, cluster_id in zip(snippets, cluster_ids):\n",
    "        path = out_dir / rec.name / f'{cluster_id}.json'\n",
    "        if not path.parent.exists():\n",
    "            path.parent.mkdir(parents=False)\n",
    "        with open(path, 'w') as f: \n",
    "            json.dump([arr.tolist() for arr in snips], f)"
   ]
  },
  {
   "cell_type": "code",
   "execution_count": null,
   "id": "447c1466-2c8a-4c4d-8f2c-c01d3d8d0444",
   "metadata": {},
   "outputs": [],
   "source": [
    "by_cluster = defaultdict(list)\n",
    "num_13 = 0\n",
    "for idx in range(len(cluster_ids)):\n",
    "    by_cluster[cluster_ids[idx]].append(snippets[idx])\n",
    "    if cluster_ids[idx] == 13:\n",
    "        num_13 += 1\n",
    "\n",
    "spike_limit = 19*60*15 # 19 per second\n",
    "print(spike_limit)\n",
    "print(len(by_cluster.keys()))\n",
    "for c_id in set([cluster_ids[i] for i in range(len(cluster_ids))]):\n",
    "    if len(by_cluster[c_id]) > spike_limit:\n",
    "        by_cluster.pop(c_id)\n",
    "print(f'Remaining clusters: {len(by_cluster.keys())}.')\n",
    "for k,v in by_cluster.items():\n",
    "    print(len(v), end=', ')"
   ]
  },
  {
   "cell_type": "code",
   "execution_count": null,
   "id": "4e0edf87-f82d-4789-bac7-b65a629a9155",
   "metadata": {},
   "outputs": [],
   "source": [
    "def sort_snippets(snippets_):\n",
    "    pca = PCA(n_components=1)\n",
    "    flattened_snippets = np.array([s.reshape(-1) for s in snippets_])\n",
    "    proj = pca.fit_transform(flattened_snippets)\n",
    "    comp_snip_pairs = list(zip(proj, snippets_))\n",
    "    comp_snip_pairs.sort(key = lambda t: t[0])\n",
    "    sorted_snippets = [p[1] for p in comp_snip_pairs]\n",
    "    return sorted_snippets\n",
    "\n",
    "do_sort = False\n",
    "if do_sort:\n",
    "    for k,v in by_cluster.items():\n",
    "        by_cluster[k] = sort_snippets(v)"
   ]
  },
  {
   "cell_type": "code",
   "execution_count": null,
   "id": "6ffda867-55ef-4059-b0d8-24e340201716",
   "metadata": {},
   "outputs": [],
   "source": [
    "len(json.dumps([arr.tolist() for arr in by_cluster[20][0:1000]]))/2**20"
   ]
  },
  {
   "cell_type": "code",
   "execution_count": null,
   "id": "88d49589-e5a9-49ec-a762-a225ba76be78",
   "metadata": {},
   "outputs": [],
   "source": [
    "for cluster_id, snippets in by_cluster.items():\n",
    "    path = out_dir / f'{cluster_id}.json'\n",
    "    if not path.parent.exists():\n",
    "        path.parent.mkdir(parents=False)\n",
    "    with open(path, 'w') as f: \n",
    "        max_idx = min(len(by_cluster[cluster_id]), 5000)\n",
    "        json.dump([arr.tolist() for arr in by_cluster[cluster_id][0:max_idx]], f)\n",
    "    "
   ]
  },
  {
   "cell_type": "code",
   "execution_count": null,
   "id": "eb44388a-100c-4418-9f40-de1699a487ed",
   "metadata": {},
   "outputs": [],
   "source": [
    "colormap = pd.DataFrame({\n",
    "    'names':['Red', 'Green', 'UV', 'Blue', 'Stim'],\n",
    "    'display_hex':['#ff0a0a', '#0aff0a', '#0a0aff', '#303030', '#0a0a0a']})\n",
    "def kernel_plot(kernel):\n",
    "    fig = go.Figure()\n",
    "    xs = np.arange(kernel.shape[0])\n",
    "    # Shift the x-axis to have zero in the middle.\n",
    "    for c in range(1,3):\n",
    "        fig.add_trace(go.Scatter(x=xs, \n",
    "                                 y=kernel[:,c], \n",
    "                                 line_color=colormap.loc[c]['display_hex'], \n",
    "                                 mode='lines'))\n",
    "    fig.update_layout(autosize=False,\n",
    "                      height=300,\n",
    "                      margin=dict(l=1, r=1, b=1, t=25, pad=1),\n",
    "                      yaxis_fixedrange=True,\n",
    "                      showlegend=False,\n",
    "                      title='Kernel',\n",
    "                      title_x=0.5,\n",
    "                      title_pad=dict(l=1, r=1, b=10, t=1),\n",
    "                      xaxis={'title':'time (ms), with spike at 0'},\n",
    "                      yaxis={'title':'summed responses'} )\n",
    "    return fig"
   ]
  },
  {
   "cell_type": "code",
   "execution_count": null,
   "id": "f84489b9-885f-4fa0-a67e-1ae3f56dd849",
   "metadata": {},
   "outputs": [],
   "source": [
    "path = out_dir / 'cluster_ids.json'\n",
    "with open(path, 'w') as f:\n",
    "    as_int_array = list(map(lambda x : int(x), by_cluster.keys()))\n",
    "    json.dump(as_int_array, f)"
   ]
  },
  {
   "cell_type": "code",
   "execution_count": null,
   "id": "dcdf5666-a9e1-4445-9fca-b21fd48a7ee9",
   "metadata": {},
   "outputs": [],
   "source": [
    "len(by_cluster[20])"
   ]
  },
  {
   "cell_type": "code",
   "execution_count": null,
   "id": "8367213b-4264-45ee-add6-9a2bdb18019c",
   "metadata": {},
   "outputs": [],
   "source": [
    "5272/(60*15)"
   ]
  },
  {
   "cell_type": "code",
   "execution_count": null,
   "id": "99dff230-693c-469f-b76c-e29d10866198",
   "metadata": {},
   "outputs": [],
   "source": []
  }
 ],
 "metadata": {
  "kernelspec": {
   "display_name": "Python 3 (ipykernel)",
   "language": "python",
   "name": "python3"
  },
  "language_info": {
   "codemirror_mode": {
    "name": "ipython",
    "version": 3
   },
   "file_extension": ".py",
   "mimetype": "text/x-python",
   "name": "python",
   "nbconvert_exporter": "python",
   "pygments_lexer": "ipython3",
   "version": "3.10.6"
  }
 },
 "nbformat": 4,
 "nbformat_minor": 5
}
