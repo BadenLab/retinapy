{
 "cells": [
  {
   "cell_type": "code",
   "execution_count": null,
   "id": "518d6931-85a4-4c8d-b789-361b0acc6464",
   "metadata": {},
   "outputs": [],
   "source": []
  },
  {
   "cell_type": "markdown",
   "id": "6e2dde29-d76e-4d45-a064-90d0125bec93",
   "metadata": {},
   "source": [
    "# Experiment 1\n",
    "Spike prediction with MEA data.\n",
    "\n",
    "\n",
    "## Experiment 1.1\n",
    "Spike prediction for a single cell. \n",
    "\n",
    "I'm started logging experiments after already making progress on single cell spike prediction.\n"
   ]
  }
 ],
 "metadata": {
  "kernelspec": {
   "display_name": "Python 3 (ipykernel)",
   "language": "python",
   "name": "python3"
  },
  "language_info": {
   "codemirror_mode": {
    "name": "ipython",
    "version": 3
   },
   "file_extension": ".py",
   "mimetype": "text/x-python",
   "name": "python",
   "nbconvert_exporter": "python",
   "pygments_lexer": "ipython3",
   "version": "3.9.13"
  }
 },
 "nbformat": 4,
 "nbformat_minor": 5
}
