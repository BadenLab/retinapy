{
 "cells": [
  {
   "cell_type": "markdown",
   "id": "16c0dffb-a68f-44bd-9e59-64b098de13f0",
   "metadata": {},
   "source": [
    "# Log\n",
    "This page records ideas and notes chronologically. An attempt will be made to avoid making any edits other than fixing formatting or typos.\n",
    "\n",
    "\n",
    "### 2022-09-27\n",
    "Decided to start writing down notes. \n",
    "\n",
    "At this point, I have a model that is reasonably good at predicting spikes for a single cell, given the stimulus and the spike history. This is using the distance field model output. \n",
    "\n",
    "I'll spend a bit of time today seeing how small I can make the model performance degrades. Mainly I'll try reducing channel and layer counts. I don't want to be needlessly carrying around a heavy model into the next few experiments.\n",
    "\n",
    "\n",
    "I tried out the experimentation automation tool, Guild AI; however, it was very finicky and configuration file heavy. It was especially hard to get relative paths working. In the end, I figured a manual approach would be more satisfying."
   ]
  },
  {
   "cell_type": "code",
   "execution_count": null,
   "id": "c58b48ca-7ec2-4e71-862c-97265a7978d9",
   "metadata": {},
   "outputs": [],
   "source": [
    "### 2022-09-28\n"
   ]
  }
 ],
 "metadata": {
  "kernelspec": {
   "display_name": "Python 3 (ipykernel)",
   "language": "python",
   "name": "python3"
  },
  "language_info": {
   "codemirror_mode": {
    "name": "ipython",
    "version": 3
   },
   "file_extension": ".py",
   "mimetype": "text/x-python",
   "name": "python",
   "nbconvert_exporter": "python",
   "pygments_lexer": "ipython3",
   "version": "3.9.13"
  }
 },
 "nbformat": 4,
 "nbformat_minor": 5
}
