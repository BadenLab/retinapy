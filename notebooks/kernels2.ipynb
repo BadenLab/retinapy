{
 "cells": [
  {
   "cell_type": "code",
   "execution_count": null,
   "id": "41ed7136-6216-4005-bdfc-3cba00d8c6cd",
   "metadata": {},
   "outputs": [],
   "source": [
    "import numpy as np\n",
    "import retinapy.mea as mea\n",
    "import plotly.express as px\n",
    "import plotly.graph_objects as go\n",
    "import plotly.subplots\n",
    "import pandas as pd\n",
    "import torch\n",
    "import torch.nn as nn\n",
    "import torch.nn.functional as F\n",
    "import math"
   ]
  },
  {
   "cell_type": "code",
   "execution_count": null,
   "id": "d071c554-da51-4ff5-8017-99238277b13e",
   "metadata": {},
   "outputs": [],
   "source": [
    "colormap = pd.DataFrame({\n",
    "    'names':['Red', 'Green', 'UV', 'Blue', 'Stim'],\n",
    "    'display_hex':['#ff0a0a', '#0aff0a', '#0a0aff', '#303030', '#0a0a0a']})\n",
    "colormap"
   ]
  },
  {
   "cell_type": "markdown",
   "id": "5fffaabe-3002-48c4-a9e8-ea77ae317f7a",
   "metadata": {},
   "source": [
    "## Data"
   ]
  },
  {
   "cell_type": "code",
   "execution_count": null,
   "id": "c6dd40ae-f3bc-4daa-9ce1-a0e8e3bd6f4a",
   "metadata": {},
   "outputs": [],
   "source": [
    "# Load recording\n",
    "rec_name = 'Chicken_17_08_21_Phase_00'\n",
    "rec = mea.single_3brain_recording(\n",
    "    rec_name,\n",
    "    mea.load_stimulus_pattern('../data/ff_noise.h5'),\n",
    "    mea.load_recorded_stimulus('../data/ff_recorded_noise.pickle'),\n",
    "    mea.load_response('../data/ff_spike_response.pickle'))\n",
    "rec = mea.decompress_recording(rec, downsample=18)\n",
    "print(rec)"
   ]
  },
  {
   "cell_type": "markdown",
   "id": "9ba99506-d1a1-4952-9e5a-85d3b5d6c6da",
   "metadata": {},
   "source": [
    "## Model"
   ]
  },
  {
   "cell_type": "code",
   "execution_count": null,
   "id": "45650e34-c393-4166-826a-4cb6a31d317b",
   "metadata": {},
   "outputs": [],
   "source": [
    "class Block(nn.Module):\n",
    "    def __init__(self, in_n, out_n, residual=True, dilation=1):\n",
    "        super(Block, self).__init__()\n",
    "        self.conv1 = nn.Conv1d(in_n, out_n, kernel_size=10, stride=1, padding=0, dilation=dilation)\n",
    "        self.bn = nn.BatchNorm1d(out_n)\n",
    "        self.residual = residual\n",
    "        \n",
    "    def forward(self, x):\n",
    "        x_p = F.relu(self.bn(self.conv1(x)))\n",
    "        if self.residual:\n",
    "            x_p = x_p + x[:,:,0:x_p.shape[-1]]\n",
    "        return x_p\n",
    "\n",
    "class GanglionAsCNN(nn.Module):\n",
    "    LED_CHANNELS = 4\n",
    "\n",
    "    def __init__(self, in_len, receptive_len=1000, receptive_offset=1, inc_cluster=True):\n",
    "        super(GanglionAsCNN, self).__init__()\n",
    "        self.receptive_len = receptive_len\n",
    "        self.in_len = in_len\n",
    "        self.receptive_offset = receptive_offset\n",
    "        self.n_features = 20\n",
    "        self.n_fc_features = 40\n",
    "        self.out_len = in_len - receptive_len - receptive_offset\n",
    "        self.PER_LOOP_WIN = 50\n",
    "        \n",
    "        # Input is the LED stimulus and the cell cluster's response.\n",
    "        self.num_input_channels = self.LED_CHANNELS + int(inc_cluster)\n",
    "        self.network = nn.Sequential(\n",
    "            # 1000\n",
    "            Block(self.num_input_channels, self.n_features, residual=False),\n",
    "            # 991\n",
    "            Block(self.n_features, self.n_features),\n",
    "            # 982\n",
    "            nn.MaxPool1d(kernel_size=2, stride=1, padding=0, dilation=1),\n",
    "            # -> 491\n",
    "            Block(self.n_features, self.n_features, dilation=2),\n",
    "            # -> 482\n",
    "            Block(self.n_features, self.n_features, dilation=2),\n",
    "            # -> 473\n",
    "            Block(self.n_features, self.n_features, dilation=2),\n",
    "            # -> 464\n",
    "            nn.MaxPool1d(kernel_size=2, stride=1, padding=0, dilation=2),\n",
    "            # 232\n",
    "            Block(self.n_features, self.n_features, dilation=4),\n",
    "            # 223\n",
    "            Block(self.n_features, self.n_features, dilation=4),\n",
    "            # 214\n",
    "            nn.MaxPool1d(kernel_size=2, stride=1, padding=0, dilation=4),\n",
    "            # 107\n",
    "            Block(self.n_features, self.n_features, dilation=8),\n",
    "            # 98\n",
    "            Block(self.n_features, self.n_features, dilation=8),\n",
    "            # 89\n",
    "            Block(self.n_features, self.n_features, dilation=8),\n",
    "            # 80\n",
    "            nn.MaxPool1d(kernel_size=2, stride=1, padding=0, dilation=8),\n",
    "            # 40\n",
    "            Block(self.n_features, self.n_features, dilation=16),\n",
    "            # 31\n",
    "            Block(self.n_features, self.n_fc_features, residual=False, dilation=16),\n",
    "            # 22\n",
    "            nn.Conv1d(self.n_fc_features, 1, kernel_size=22, dilation=16), \n",
    "            nn.ReLU(),\n",
    "        )\n",
    "        \n",
    "    def forward(self, x):\n",
    "        ys = []\n",
    "        i = 0\n",
    "        count = 0\n",
    "        per_loop_in = self.PER_LOOP_WIN * self.receptive_len\n",
    "        while i < x.shape[-1]: # can be tighter, -1000\n",
    "            x_len = min(x.shape[-1]-i, per_loop_in)\n",
    "            x_part = x[:,:,i:i+x_len]\n",
    "            pad_len = per_loop_in - x_len\n",
    "            #print(f'{self.PER_LOOP_LEN}-{x_part.shape}')\n",
    "            if pad_len:\n",
    "                assert i >= self.out_len - per_loop_in, f'Only pad on the last loop. ({i})'\n",
    "                x_part = F.pad(input=x_part, pad=(0, pad_len))\n",
    "            y_part = self.network(x_part) # should be 1000 shorter\n",
    "            assert y_part.shape[-1] == x_part.shape[-1] - 999, f'Got ({y_part.shape}-{x_part.shape})'\n",
    "            ys.append(y_part)\n",
    "            i += (per_loop_in - self.receptive_len + 1)\n",
    "            count+=1\n",
    "        y = torch.cat(ys, dim=-1)\n",
    "        y = y[:,:,0:x.shape[-1]]\n",
    "        return y\n",
    "\n",
    "    def loss(self, pred_z, actual):\n",
    "        pred_z = torch.squeeze(pred_z)\n",
    "        #actual = actual[self.receptive_len + self.receptive_offset :]\n",
    "        mask = actual == 1\n",
    "        loss_1_only = 2*F.mse_loss(pred_z[mask], torch.ones_like(pred_z[mask]))\n",
    "        loss = F.binary_cross_entropy_with_logits(pred_z[mask], torch.ones_like(pred_z[mask]))\n",
    "        #correct = torch.sum(pred_0_1 == y)\n",
    "        loss += F.binary_cross_entropy_with_logits(pred_z, actual)\n",
    "        pred = torch.round(torch.sigmoid(pred_z))\n",
    "        accuracy = torch.sum(pred == actual) / actual.shape[0]\n",
    "        spike_only_correct = torch.sum(pred[actual == 1] == 1)\n",
    "        spike_only_accuracy = spike_only_correct / torch.sum(actual == 1)\n",
    "        print(\n",
    "            f\"loss: {loss.item():.4f} accuracy: {accuracy:.4f}, spike-only \"\n",
    "            f\"accuracy: {spike_only_accuracy:.4f}\"\n",
    "        )\n",
    "        return loss\n",
    "    "
   ]
  },
  {
   "cell_type": "markdown",
   "id": "c9180445-eafb-4cd5-99a5-6ab317ceedcd",
   "metadata": {},
   "source": [
    "## Train"
   ]
  },
  {
   "cell_type": "code",
   "execution_count": null,
   "id": "4450dd03-bd0a-461e-b620-23fc83bf7908",
   "metadata": {},
   "outputs": [],
   "source": [
    "def train_model(model, input_, spikes, epochs):\n",
    "    # nn package also has different loss functions.\n",
    "    # we use cross entropy loss for our classification task\n",
    "    model.train()\n",
    "    learning_rate = 1e-3\n",
    "    lambda_l2 = 1e-5\n",
    "    optimizer = torch.optim.Adam(\n",
    "        model.parameters(), lr=learning_rate, weight_decay=lambda_l2\n",
    "    )\n",
    "    for epoch in range(epochs):\n",
    "        pred = model(input_)\n",
    "        loss = model.loss(pred, spikes)\n",
    "        optimizer.zero_grad()\n",
    "        loss.backward()\n",
    "        optimizer.step()\n",
    "    return model"
   ]
  },
  {
   "cell_type": "code",
   "execution_count": null,
   "id": "51b73846-3959-4fb2-bb4e-f08259ca268b",
   "metadata": {},
   "outputs": [],
   "source": [
    "device = torch.device('cuda:0')\n",
    "spikes = torch.from_numpy(np.array(rec.spikes.T[14])).float().to(device)\n",
    "stimulus = torch.from_numpy(rec.stimulus).float().to(device)\n",
    "input_ = torch.concat([stimulus, torch.unsqueeze(spikes, dim=-1)], dim=1)\n",
    "input_ = input_.T # channel first\n",
    "input_ = torch.unsqueeze(input_, dim=0)\n",
    "in_len = rec.stimulus.shape[0]\n",
    "model = GanglionAsCNN(in_len=in_len)\n",
    "model.to(device)\n",
    "train_model(model, input_, spikes, epochs=100)"
   ]
  },
  {
   "cell_type": "markdown",
   "id": "9ec88ea1-9a4f-4d19-b576-7d0df2aaa9b9",
   "metadata": {},
   "source": [
    "## Results"
   ]
  },
  {
   "cell_type": "code",
   "execution_count": null,
   "id": "3a551527-c46c-4877-87d1-d4cce0d7325f",
   "metadata": {},
   "outputs": [],
   "source": [
    "def kernel_plot(kernel):\n",
    "    fig = go.Figure()\n",
    "    xs = np.arange(kernel.shape[0])\n",
    "    # Shift the x-axis to have zero in the middle.\n",
    "    for c in range(1,3):\n",
    "        fig.add_trace(go.Scatter(x=xs, \n",
    "                                 y=kernel[:,c], \n",
    "                                 line_color=colormap.loc[c]['display_hex'], \n",
    "                                 mode='lines'))\n",
    "    fig.update_layout(autosize=False,\n",
    "                      height=300,\n",
    "                      margin=dict(l=1, r=1, b=1, t=25, pad=1),\n",
    "                      yaxis_fixedrange=True,\n",
    "                      showlegend=False,\n",
    "                      title='Kernel',\n",
    "                      title_x=0.5,\n",
    "                      title_pad=dict(l=1, r=1, b=10, t=1),\n",
    "                      xaxis={'title':'time (ms), with spike at 0'},\n",
    "                      yaxis={'title':'summed responses'} )\n",
    "    return fig"
   ]
  },
  {
   "cell_type": "code",
   "execution_count": null,
   "id": "e97870aa-3fc2-4b9b-9c4e-c20692d81fc7",
   "metadata": {},
   "outputs": [],
   "source": [
    "kernel_plot(k).show()"
   ]
  },
  {
   "cell_type": "code",
   "execution_count": null,
   "id": "32ccedaa-0b78-4499-9b44-8cca5ab541ed",
   "metadata": {},
   "outputs": [],
   "source": []
  }
 ],
 "metadata": {
  "kernelspec": {
   "display_name": "Python 3 (ipykernel)",
   "language": "python",
   "name": "python3"
  },
  "language_info": {
   "codemirror_mode": {
    "name": "ipython",
    "version": 3
   },
   "file_extension": ".py",
   "mimetype": "text/x-python",
   "name": "python",
   "nbconvert_exporter": "python",
   "pygments_lexer": "ipython3",
   "version": "3.9.13"
  }
 },
 "nbformat": 4,
 "nbformat_minor": 5
}
