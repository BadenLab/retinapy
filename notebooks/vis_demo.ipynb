{
 "cells": [
  {
   "cell_type": "markdown",
   "id": "829c8360-088a-4ed7-a2cd-ff0404e72b66",
   "metadata": {},
   "source": [
    "# Demo the features in `vis.py` "
   ]
  },
  {
   "cell_type": "markdown",
   "id": "a04e2460-4572-410c-92c3-0303331ce74d",
   "metadata": {},
   "source": [
    "# 1. Setup\n",
    "Imports, fuctions, config, loading etc."
   ]
  },
  {
   "cell_type": "markdown",
   "id": "636b0ce2-df56-4339-9921-85bbaf4caf78",
   "metadata": {},
   "source": [
    "### 1.1 Imports"
   ]
  },
  {
   "cell_type": "code",
   "execution_count": null,
   "id": "caaccbb0-4b0c-40b3-b27d-0eb5cef200c5",
   "metadata": {},
   "outputs": [],
   "source": [
    "import pathlib\n",
    "import torch\n",
    "import numpy as np\n",
    "import retinapy\n",
    "import retinapy.mea as mea\n",
    "import retinapy.spikeprediction as sp\n",
    "import plotly\n",
    "import plotly.graph_objects as go\n",
    "import plotly.subplots as subplots\n",
    "import retinapy.vis as vis"
   ]
  },
  {
   "cell_type": "markdown",
   "id": "291c9a34-09ef-4ec2-b88e-28b39950024c",
   "metadata": {},
   "source": [
    "### 1.2 Helper functions"
   ]
  },
  {
   "cell_type": "code",
   "execution_count": null,
   "id": "7c88b9b7-01af-4c19-81c4-ca7bfd7d4598",
   "metadata": {},
   "outputs": [],
   "source": [
    "def get_sample(ds, ids):\n",
    "    \"\"\"Don't forget how to get the samples as tensor tuples.\"\"\"\n",
    "    if type(ids) == int:\n",
    "        ids = [ids]\n",
    "    sample = torch.utils.data.dataloader.default_collate(\n",
    "        [ds[i] for i in ids])\n",
    "    return sample"
   ]
  },
  {
   "cell_type": "markdown",
   "id": "53ec4e55-f043-4877-a14b-1cba83252dd7",
   "metadata": {},
   "source": [
    "### 1.3 Config "
   ]
  },
  {
   "cell_type": "code",
   "execution_count": null,
   "id": "0b2d1d83-c0d8-40d4-bc37-c745db1f0863",
   "metadata": {},
   "outputs": [],
   "source": [
    "project_root = pathlib.Path(\"../\")"
   ]
  },
  {
   "cell_type": "markdown",
   "id": "e8197522-d6f5-4dce-a55d-1b798add068c",
   "metadata": {},
   "source": [
    "### 1.4 Load stimulus & response"
   ]
  },
  {
   "cell_type": "code",
   "execution_count": null,
   "id": "e7359c2f-9a6d-4e13-a8ed-f1c901e03fef",
   "metadata": {},
   "outputs": [],
   "source": [
    "stimulus_pattern_path = project_root / \"data/ff_noise.h5\"\n",
    "stimulus_rec_path = project_root / \"data/ff_recorded_noise.pickle\"\n",
    "response_path = project_root / \"data/ff_spike_response.pickle\"\n",
    "rec_name = \"Chicken_17_08_21_Phase_00\"\n",
    "\n",
    "rec = mea.single_3brain_recording(\n",
    "    rec_name,\n",
    "    mea.load_stimulus_pattern(stimulus_pattern_path),\n",
    "    mea.load_recorded_stimulus(stimulus_rec_path),\n",
    "    mea.load_response(response_path),\n",
    ")"
   ]
  },
  {
   "cell_type": "markdown",
   "id": "b6e755e6-3aa6-4195-b631-7f46a4a9d677",
   "metadata": {},
   "source": [
    "### 1.5 Load model"
   ]
  },
  {
   "cell_type": "code",
   "execution_count": null,
   "id": "497614c0-53cf-4237-b422-aba7e874dc2d",
   "metadata": {},
   "outputs": [],
   "source": [
    "model_ckpt = project_root / \"out/exp/1/2/2/catvae_z=2d_l1_insert/3/MultiClusterDistField-18ds_992in_100out/recovery.pth\"\n",
    "assert pathlib.Path(model_ckpt).resolve().exists()"
   ]
  },
  {
   "cell_type": "code",
   "execution_count": null,
   "id": "d3cc8102-4f17-44a7-b114-9140a35c9583",
   "metadata": {},
   "outputs": [],
   "source": [
    "torch.set_grad_enabled(False)\n",
    "config = sp.Configuration(downsample=18, input_len=992, output_len=100)\n",
    "t = sp.MultiClusterDistFieldTGroup.create_trainable([rec], config)\n",
    "retinapy.models.load_model(t.model, model_ckpt)\n",
    "t.model.cuda();\n",
    "t.model.eval();"
   ]
  },
  {
   "cell_type": "markdown",
   "id": "006b64cc-16ab-45d2-878c-900e37ee5379",
   "metadata": {},
   "source": [
    "## 2 Test \n",
    "Test out some functions in `vis.py`\n",
    "\n",
    "### 2.1 View a stimulus"
   ]
  },
  {
   "cell_type": "code",
   "execution_count": null,
   "id": "57216a24-9211-4290-8335-aaa217efd946",
   "metadata": {},
   "outputs": [],
   "source": [
    "def view_stimulus():\n",
    "    sample = get_sample(t.val_ds, ids=0)\n",
    "    fig = vis.stimulus_fig(sample['snippet'][0, 0:4], \n",
    "                           start_ms=0,\n",
    "                           bin_duration_ms=t.sample_period_ms)\n",
    "    fig.show()\n",
    "view_stimulus()"
   ]
  },
  {
   "cell_type": "markdown",
   "id": "47b7bbde-fc90-4da4-8670-140523d92976",
   "metadata": {},
   "source": [
    "### 2.2 View distance fields, actual vs. predicted"
   ]
  },
  {
   "cell_type": "code",
   "execution_count": null,
   "id": "1c4c5de0-fb5c-49f3-bfc6-93f13aac66b6",
   "metadata": {},
   "outputs": [],
   "source": [
    "def view_distfield():\n",
    "    batch_sample = get_sample(t.val_ds, ids=[0, 1, 2, 3])\n",
    "    dist_pred = t.forward(batch_sample)[0].cpu().numpy()\n",
    "    dist_actual = t.distfield_to_nn_output(batch_sample['dist']).cpu().numpy()\n",
    "    fig = vis.distfield_fig(dist_actual, dist_pred,\n",
    "                          start_ms=0,\n",
    "                          bin_duration_ms = t.sample_period_ms,\n",
    "                          stride_bins=t.val_ds.stride,\n",
    "                          log_space=True)\n",
    "    fig.show()\n",
    "view_distfield()"
   ]
  },
  {
   "cell_type": "markdown",
   "id": "ba468002-0ce2-4c34-b420-f80a3d4fcf5a",
   "metadata": {},
   "source": [
    "### 2.3 View of a distfield model input and output"
   ]
  },
  {
   "cell_type": "code",
   "execution_count": null,
   "id": "bafab4a3-aefd-4034-87dd-b821bcf52a0d",
   "metadata": {},
   "outputs": [],
   "source": [
    "def view_model_in_out():\n",
    "    sample = t.val_ds[2]\n",
    "    in_sample = torch.utils.data.dataloader.default_collate([sample])\n",
    "    \n",
    "    stimulus = sample['snippet'][0 : mea.NUM_STIMULUS_LEDS]\n",
    "    spikes = sample[\"snippet\"][-1]\n",
    "    target_dist = t.distfield_to_nn_output(in_sample['dist']).cpu().numpy()[0]\n",
    "    model_out, loss = t.forward(in_sample)\n",
    "    model_out = model_out[0].cpu().numpy()\n",
    "    fig = vis.distfield_model_in_out(stimulus, spikes, target_dist, model_out, start_ms=0, bin_duration_ms=1.0)\n",
    "    fig.show()\n",
    "view_model_in_out()"
   ]
  },
  {
   "cell_type": "markdown",
   "id": "26587a2c-beea-4633-be01-be87ef466999",
   "metadata": {},
   "source": [
    "### 2.4 Inspect the 2D latent space"
   ]
  },
  {
   "cell_type": "code",
   "execution_count": null,
   "id": "2dfeb315-b6b9-4c2b-ae2a-07d1135befa9",
   "metadata": {},
   "outputs": [],
   "source": [
    "def inspect_latent_space():\n",
    "    "
   ]
  }
 ],
 "metadata": {
  "kernelspec": {
   "display_name": "Python 3 (ipykernel)",
   "language": "python",
   "name": "python3"
  },
  "language_info": {
   "codemirror_mode": {
    "name": "ipython",
    "version": 3
   },
   "file_extension": ".py",
   "mimetype": "text/x-python",
   "name": "python",
   "nbconvert_exporter": "python",
   "pygments_lexer": "ipython3",
   "version": "3.10.6"
  }
 },
 "nbformat": 4,
 "nbformat_minor": 5
}
